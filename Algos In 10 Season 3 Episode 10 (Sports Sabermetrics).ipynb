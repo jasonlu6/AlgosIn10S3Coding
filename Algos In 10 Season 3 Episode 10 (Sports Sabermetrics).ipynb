{
 "cells": [
  {
   "cell_type": "markdown",
   "metadata": {},
   "source": [
    "## Algos in 10 S3 E10 (09/18/2022) \n",
    "\n",
    "It is Fantasy Football Season, WNBA Finals (although I don’t have a preference, go Aces!), and the Sabermetrics Season (due to both MLB playoffs about to begin in October, NBA about to begin in October, NHL about to begin in October, and NFL heating up in October, well you get the point) ! To take a deviation into some stats and ‘nerdier’ stuff for Algorithms with regards to sports science, we take an introductory glimpse at Sports Sabermetrics.\n",
    "\n",
    "According to Merriam Webster Dictionary, sabermetrics is defined as : “detailed statistical analysis of baseball data (as for the purposes of evaluating player performance and developing playing strategies)”. Or in other words, do some cool math to determine what happens in the course of a season.\n",
    "\n",
    "For this episode, we split it into two parts: a Kadane’s Algorithm warm-up (longest contiguous subarray LeetCode problem), and then some introduction to statistics with regards to standard deviation and variance with a new way to use Python (yes, it is easier to use Python than Java or even R due to the library packages already imported for you).\n",
    "\n",
    "“Take me home, stats road, to the place, where I belong!” (ft. John Denver’s Country Roads)\n",
    "\n",
    "### Part I: Longest Contiguous Averages, ft. MLB.\n",
    "\n",
    "Sadly, the Red Sox are out of playoff contention, but since I do have friends in Seattle, and well, I am moving to somewhere close to Tampa in Florida (Kissimmee / Orlando), Tampa Bay Rays and Seattle Mariners are a worthy team to ‘bandwagon’ for, at least for statistical purposes.\n",
    "\n",
    "So, here are the batting averages of each team’s starting lineup, in a potential ALDS / wild card preview: courtesy of ESPN.com. For statistical significance, we round each batting average to 3 significant figures (‘sig figs’).\n",
    "\n",
    "TB Rays: https://www.espn.com.au/mlb/team/stats/_/name/tb\n",
    "\n",
    "Seattle Mariners: https://www.espn.com.au/mlb/team/stats/_/name/sea\n",
    "\n",
    "Apply Kadane’s Algorithm (longest contiguous subarray) to determine which lineup has the ‘most average’ batting average for their MLB team. Assume that we do not have any duplicate batting averages.\n",
    "\n",
    "### Part II: Python Stats\n",
    "\n",
    "Now, we are going to apply the Kadane’s Algorithm in Python.\n",
    "\n",
    "We are going to use the Python module statistics to make some sabermetric analysis. In a Jupyter Notebook, we will do the following: code up Kadane’s Algorithm, take the resulting subarray from each Tampa Bay and Seattle MLB batting averages, and then calculate the following of the subarray:\n",
    "\n",
    "The Mean Batting Average\n",
    "\n",
    "The Mode Batting Average (if applicable)\n",
    "\n",
    "Variance of each Batting Average\n",
    "\n",
    "Standard Deviation of each Batting Average (given mean and also from library import)\n",
    "\n",
    "Geometric mean of each Batting Average\n",
    "\n",
    "Harmonic mean of each Batting Average\n",
    "\n",
    "Median of each Batting Average\n",
    "\n",
    "#### Like and subscribe! We’ll take a long break till Columbus Day / Indigenous People’s Day on October 10th 2022, and then #wubbalubbadubdub to the world of Rick and Morty and SQL database / entity relationship / design algorithms. Season 6 is going very well, but no spoilers!"
   ]
  },
  {
   "cell_type": "markdown",
   "metadata": {},
   "source": [
    "## Part I: Longest Contiguous Averages, ft. MLB."
   ]
  },
  {
   "cell_type": "markdown",
   "metadata": {},
   "source": [
    "Pseudocode / Algorithm walkthrough: \n",
    "\n",
    "We are essentially doing a linear time (O(n)) search to find the max continguous subarray. \n",
    "\n",
    "def kadane(arr,avg,n):\n",
    "\n",
    "    if there are no elements, the array length is 0, or array size is 0:\n",
    "    \n",
    "       cannot determine longest subarray \n",
    "       \n",
    "    define the max temporary arr and max terminal pointer array \n",
    "    \n",
    "    for each element in array:\n",
    "    \n",
    "        increase the pointer array by element index \n",
    "        \n",
    "        if the element index < 0: reset the terminal pointer \n",
    "        \n",
    "        otherwise, continue finding for rest of elements in array \n",
    "        \n",
    "    if no element is continguous, then say we reached end of array \n",
    "    \n",
    "    return the subarray sum"
   ]
  },
  {
   "cell_type": "code",
   "execution_count": 177,
   "metadata": {},
   "outputs": [],
   "source": [
    "# Kadane's Algorithm (personal implementation with edge cases)\n",
    "# Source: https://favtutor.com/blogs/kadanes-algorithm-python\n",
    "\n",
    "# n is the number of elements or \n",
    "# batting averages we take into consideration. \n",
    "\n",
    "# We are using floating point for this algorithm,\n",
    "# usually we use integers. \n",
    "\n",
    "def kadane(arr,avg,n):\n",
    "    if n < 0 or len(arr) == 0 or avg == 0:\n",
    "        print(\"Cannot determine longest continguous subarray\")\n",
    "    \n",
    "    # max temp, and max terminal\n",
    "    max_temp = arr[0]\n",
    "    max_term = 0 \n",
    "    \n",
    "    # loop thru array, O(n) time \n",
    "    for index in range(0,len(arr)):\n",
    "        max_term += arr[index]\n",
    "        # reset array if found continguous subarray. \n",
    "        if max_term < 0.000:\n",
    "            max_term = 0.000 \n",
    "        # otherwise, find the for all of elements in array.\n",
    "        elif (max_temp < max_term):\n",
    "            max_temp = max_term \n",
    "        else:\n",
    "            print(\"Reached end of array.\")\n",
    "            \n",
    "    return max_temp \n",
    "\n"
   ]
  },
  {
   "cell_type": "code",
   "execution_count": 178,
   "metadata": {},
   "outputs": [],
   "source": [
    "# Apply to our problem set. \n",
    "# Source: https://www.espn.com.au/mlb/team/stats/_/name/tb\n",
    "# Source #2: https://www.espn.com.au/mlb/team/stats/_/name/sea\n",
    "\n",
    "# We round to the nearest thousandth \n",
    "# Add in a pinch hitter (from Double A for TB)\n",
    "tb_averages = [0.266, 0.295, 0.173, 0.306, 0.227, 0.222, 0.223,\n",
    "              0.293, 0.257, 0.264, 0.221, 0.228, 0.147, \n",
    "              0.221, 0.165, 0.270]\n",
    "sea_averages = [0.235, 0.238, 0.279, 0.272, 0.251, 0.218, \n",
    "               0.205, 0.182, 0.179, 0.206, 0.233, 0.281,\n",
    "               0.214, 0.124, 0.208, 0.143, 0.125, \n",
    "               0.303, 0.172, 0.172, 0.130, 0.158,\n",
    "               0.200, 0.200, 0.000, 0.000, 0.333,\n",
    "               0.000, 0.000, 0.000]"
   ]
  },
  {
   "cell_type": "code",
   "execution_count": 204,
   "metadata": {},
   "outputs": [
    {
     "name": "stdout",
     "output_type": "stream",
     "text": [
      "Tampa Bay Rays Longest Continguous Subarray: \n",
      "\n",
      "Reached end of array.\n",
      "2.5260000000000007\n",
      "\n",
      " Seattle Mariners Longest Continguous Subarray: \n",
      "\n",
      "Reached end of array.\n",
      "2.2649999999999997\n"
     ]
    }
   ],
   "source": [
    "# Apply Kadane here with various seeds / average lists\n",
    "print(\"Tampa Bay Rays Longest Continguous Subarray: \\n\")\n",
    "print(kadane(tb_averages[:10],1,16))\n",
    "\n",
    "print(\"\\n Seattle Mariners Longest Continguous Subarray: \\n\")\n",
    "print(kadane(sea_averages[:10],1,30))"
   ]
  },
  {
   "cell_type": "code",
   "execution_count": 205,
   "metadata": {},
   "outputs": [
    {
     "name": "stdout",
     "output_type": "stream",
     "text": [
      "Tampa Bay Rays Longest Continguous Subarray: \n",
      "\n",
      "Reached end of array.\n",
      "2.2620000000000005\n",
      "\n",
      " Seattle Mariners Longest Continguous Subarray: \n",
      "\n",
      "Reached end of array.\n",
      "2.0589999999999997\n"
     ]
    }
   ],
   "source": [
    "print(\"Tampa Bay Rays Longest Continguous Subarray: \\n\")\n",
    "print(kadane(tb_averages[:9],2,15))\n",
    "\n",
    "print(\"\\n Seattle Mariners Longest Continguous Subarray: \\n\")\n",
    "print(kadane(sea_averages[:9],3,29))"
   ]
  },
  {
   "cell_type": "code",
   "execution_count": 206,
   "metadata": {},
   "outputs": [
    {
     "name": "stdout",
     "output_type": "stream",
     "text": [
      "Tampa Bay Rays Longest Continguous Subarray: \n",
      "\n",
      "Reached end of array.\n",
      "2.0050000000000003\n",
      "\n",
      " Seattle Mariners Longest Continguous Subarray: \n",
      "\n",
      "Reached end of array.\n",
      "1.88\n"
     ]
    }
   ],
   "source": [
    "# Regular MLB lineup with exactly 9 position players :-) \n",
    "\n",
    "print(\"Tampa Bay Rays Longest Continguous Subarray: \\n\")\n",
    "print(kadane(tb_averages[:8],3,16))\n",
    "\n",
    "print(\"\\n Seattle Mariners Longest Continguous Subarray: \\n\")\n",
    "print(kadane(sea_averages[:8],3,30))"
   ]
  },
  {
   "cell_type": "code",
   "execution_count": 207,
   "metadata": {},
   "outputs": [
    {
     "name": "stdout",
     "output_type": "stream",
     "text": [
      "Tampa Bay Rays Longest Continguous Subarray: \n",
      "\n",
      "Reached end of array.\n",
      "1.7120000000000002\n",
      "\n",
      " Seattle Mariners Longest Continguous Subarray: \n",
      "\n",
      "Reached end of array.\n",
      "1.698\n"
     ]
    }
   ],
   "source": [
    "print(\"Tampa Bay Rays Longest Continguous Subarray: \\n\")\n",
    "print(kadane(tb_averages[:7],4,16))\n",
    "\n",
    "print(\"\\n Seattle Mariners Longest Continguous Subarray: \\n\")\n",
    "print(kadane(sea_averages[:7],4,30))"
   ]
  },
  {
   "cell_type": "code",
   "execution_count": 208,
   "metadata": {},
   "outputs": [
    {
     "name": "stdout",
     "output_type": "stream",
     "text": [
      "Tampa Bay Rays Longest Continguous Subarray: \n",
      "\n",
      "Reached end of array.\n",
      "1.489\n",
      "\n",
      " Seattle Mariners Longest Continguous Subarray: \n",
      "\n",
      "Reached end of array.\n",
      "1.4929999999999999\n"
     ]
    }
   ],
   "source": [
    "print(\"Tampa Bay Rays Longest Continguous Subarray: \\n\")\n",
    "print(kadane(tb_averages[:6],5,16))\n",
    "\n",
    "print(\"\\n Seattle Mariners Longest Continguous Subarray: \\n\")\n",
    "print(kadane(sea_averages[:6],5,30))"
   ]
  },
  {
   "cell_type": "markdown",
   "metadata": {},
   "source": [
    "## Part 2: Python Stats "
   ]
  },
  {
   "cell_type": "code",
   "execution_count": 209,
   "metadata": {},
   "outputs": [],
   "source": [
    "# Here are now the subarrays after running Kadane 5 \n",
    "# times for each TB and Seattle. \n",
    "\n",
    "tb_kadane = [2.526, 2.262, 2.005, 1.712, 1.489]\n",
    "sea_kadane = [2.265, 2.059, 1.880, 1.698, 1.493]"
   ]
  },
  {
   "cell_type": "code",
   "execution_count": 210,
   "metadata": {},
   "outputs": [],
   "source": [
    "# Import python statistics library here. \n",
    "from statistics import median, mean, mode, variance, stdev, geometric_mean, harmonic_mean, quantiles "
   ]
  },
  {
   "cell_type": "markdown",
   "metadata": {},
   "source": [
    "Statistics to calculate: \n",
    "\n",
    "The Mean Batting Average\n",
    "\n",
    "The Mode Batting Average (if applicable)\n",
    "\n",
    "Variance of each Batting Average\n",
    "\n",
    "Standard Deviation of each Batting Average (given variance and also from library import)\n",
    "\n",
    "Geometric mean of each Batting Average\n",
    "\n",
    "Harmonic mean of each Batting Average\n",
    "\n",
    "Median of each Batting Average"
   ]
  },
  {
   "cell_type": "code",
   "execution_count": 211,
   "metadata": {},
   "outputs": [
    {
     "name": "stdout",
     "output_type": "stream",
     "text": [
      "TB kadane batting average mean: \n",
      "\n",
      "1.9988\n"
     ]
    }
   ],
   "source": [
    "# TB Mean. \n",
    "print(\"TB kadane batting average mean: \\n\")\n",
    "print(mean(tb_kadane))"
   ]
  },
  {
   "cell_type": "code",
   "execution_count": 212,
   "metadata": {},
   "outputs": [
    {
     "name": "stdout",
     "output_type": "stream",
     "text": [
      "SEA kadane batting average mean: \n",
      "\n",
      "1.879\n"
     ]
    }
   ],
   "source": [
    "# SEA Mean. \n",
    "print(\"SEA kadane batting average mean: \\n\")\n",
    "print(mean(sea_kadane))"
   ]
  },
  {
   "cell_type": "code",
   "execution_count": 213,
   "metadata": {},
   "outputs": [
    {
     "name": "stdout",
     "output_type": "stream",
     "text": [
      "TB kadane batting average mode: \n",
      "\n",
      "2.526\n"
     ]
    }
   ],
   "source": [
    "# TB Mode. \n",
    "print(\"TB kadane batting average mode: \\n\")\n",
    "print(mode(tb_kadane))"
   ]
  },
  {
   "cell_type": "code",
   "execution_count": 214,
   "metadata": {},
   "outputs": [
    {
     "name": "stdout",
     "output_type": "stream",
     "text": [
      "SEA kadane batting average mode: \n",
      "\n",
      "2.265\n"
     ]
    }
   ],
   "source": [
    "# SEA Mode. \n",
    "print(\"SEA kadane batting average mode: \\n\")\n",
    "print(mode(sea_kadane))"
   ]
  },
  {
   "cell_type": "code",
   "execution_count": 215,
   "metadata": {},
   "outputs": [
    {
     "name": "stdout",
     "output_type": "stream",
     "text": [
      "TB kadane batting average variance: \n",
      "\n",
      "0.17235069999999994\n"
     ]
    }
   ],
   "source": [
    "# TB Variance. \n",
    "print(\"TB kadane batting average variance: \\n\")\n",
    "print(variance(tb_kadane))"
   ]
  },
  {
   "cell_type": "code",
   "execution_count": 216,
   "metadata": {},
   "outputs": [
    {
     "name": "stdout",
     "output_type": "stream",
     "text": [
      "SEA kadane batting average variance: \n",
      "\n",
      "0.09078850000000002\n"
     ]
    }
   ],
   "source": [
    "# SEA Variance. \n",
    "print(\"SEA kadane batting average variance: \\n\")\n",
    "print(variance(sea_kadane))"
   ]
  },
  {
   "cell_type": "markdown",
   "metadata": {},
   "source": [
    "Some brief math explanation to calculating the standard deviation the 'old fashioned' / GRE statistics way. "
   ]
  },
  {
   "cell_type": "code",
   "execution_count": 192,
   "metadata": {},
   "outputs": [
    {
     "data": {
      "image/png": "[encoded data removed]",
      "text/plain": [
       "<IPython.core.display.Image object>"
      ]
     },
     "execution_count": 192,
     "metadata": {},
     "output_type": "execute_result"
    }
   ],
   "source": [
    "from IPython.display import Image\n",
    "Image(\"stdev.png\")"
   ]
  },
  {
   "cell_type": "code",
   "execution_count": 217,
   "metadata": {},
   "outputs": [],
   "source": [
    "# Standard deviation. Manual calculation approach with edge cases. \n",
    "\n",
    "# Source: https://stackoverflow.com/questions/70087607/\n",
    "# how-do-i-calculate-standard-deviation-in-python-without-using-numpy\n",
    "\n",
    "def stdev_manual(arr):\n",
    "    if len(arr) == 0 or arr is None:\n",
    "        print(\"Cannot calculate standard deviation for array.\")\n",
    "    # Use the x[i] - mu^2 approach, where x[i] is the mean element, and mu is the \n",
    "    # delta (difference) between the mean and variance. \n",
    "    mu = sum(arr) / len(arr)\n",
    "    # neat trick using list comprehension to sum elements, less costly than O(n) for loop \n",
    "    sq_sums = sum(element * element for element in arr)\n",
    "    # apply formula here, ** 0.5 is Python square root \n",
    "    return (sq_sums / len(arr) - mu * mu) ** 0.5"
   ]
  },
  {
   "cell_type": "code",
   "execution_count": 218,
   "metadata": {},
   "outputs": [
    {
     "name": "stdout",
     "output_type": "stream",
     "text": [
      "TB kadane batting average stdev manual: \n",
      "\n",
      "0.37132271678419887\n"
     ]
    }
   ],
   "source": [
    "# TB standard deviation manual  \n",
    "print(\"TB kadane batting average stdev manual: \\n\")\n",
    "print(stdev_manual(tb_kadane))"
   ]
  },
  {
   "cell_type": "code",
   "execution_count": 219,
   "metadata": {},
   "outputs": [
    {
     "name": "stdout",
     "output_type": "stream",
     "text": [
      "SEA kadane batting average stdev manual: \n",
      "\n",
      "0.2695010204062319\n"
     ]
    }
   ],
   "source": [
    "# SEA standard deviation manual  \n",
    "print(\"SEA kadane batting average stdev manual: \\n\")\n",
    "print(stdev_manual(sea_kadane))"
   ]
  },
  {
   "cell_type": "markdown",
   "metadata": {},
   "source": [
    "Of course, if you are in hurry or got to do it for LeetCode clout, then just use the library. "
   ]
  },
  {
   "cell_type": "code",
   "execution_count": 220,
   "metadata": {},
   "outputs": [
    {
     "name": "stdout",
     "output_type": "stream",
     "text": [
      "TB kadane batting average stdev library: \n",
      "\n",
      "0.41515141815968776\n"
     ]
    }
   ],
   "source": [
    "# TB standard deviation with library  \n",
    "print(\"TB kadane batting average stdev library: \\n\")\n",
    "print(stdev(tb_kadane))"
   ]
  },
  {
   "cell_type": "code",
   "execution_count": 221,
   "metadata": {},
   "outputs": [
    {
     "name": "stdout",
     "output_type": "stream",
     "text": [
      "SEA kadane batting average stdev library: \n",
      "\n",
      "0.30131130081694585\n"
     ]
    }
   ],
   "source": [
    "# SEA standard deviation with library  \n",
    "print(\"SEA kadane batting average stdev library: \\n\")\n",
    "print(stdev(sea_kadane))"
   ]
  },
  {
   "cell_type": "markdown",
   "metadata": {},
   "source": [
    "Given sampling error, slight deviation. Trust the math instead, Sabermetrics rule #1. "
   ]
  },
  {
   "cell_type": "code",
   "execution_count": 222,
   "metadata": {},
   "outputs": [
    {
     "name": "stdout",
     "output_type": "stream",
     "text": [
      "TB kadane batting average geometric mean: \n",
      "\n",
      "1.963757046286865\n"
     ]
    }
   ],
   "source": [
    "# TB geometric mean\n",
    "print(\"TB kadane batting average geometric mean: \\n\")\n",
    "print(geometric_mean(tb_kadane))"
   ]
  },
  {
   "cell_type": "code",
   "execution_count": 223,
   "metadata": {},
   "outputs": [
    {
     "name": "stdout",
     "output_type": "stream",
     "text": [
      "TB kadane batting average geometric mean: \n",
      "\n",
      "1.963757046286865\n"
     ]
    }
   ],
   "source": [
    "# SEA geometric mean\n",
    "print(\"TB kadane batting average geometric mean: \\n\")\n",
    "print(geometric_mean(tb_kadane))"
   ]
  },
  {
   "cell_type": "code",
   "execution_count": 224,
   "metadata": {},
   "outputs": [
    {
     "name": "stdout",
     "output_type": "stream",
     "text": [
      "TB kadane batting average harmonic mean: \n",
      "\n",
      "1.9286950584718938\n"
     ]
    }
   ],
   "source": [
    "# TB harmonic mean\n",
    "print(\"TB kadane batting average harmonic mean: \\n\")\n",
    "print(harmonic_mean(tb_kadane))"
   ]
  },
  {
   "cell_type": "code",
   "execution_count": 225,
   "metadata": {},
   "outputs": [
    {
     "name": "stdout",
     "output_type": "stream",
     "text": [
      "SEA kadane batting average harmonic mean: \n",
      "\n",
      "1.9286950584718938\n"
     ]
    }
   ],
   "source": [
    "# SEA harmonic mean\n",
    "print(\"SEA kadane batting average harmonic mean: \\n\")\n",
    "print(harmonic_mean(tb_kadane))"
   ]
  },
  {
   "cell_type": "code",
   "execution_count": 226,
   "metadata": {},
   "outputs": [
    {
     "name": "stdout",
     "output_type": "stream",
     "text": [
      "TB kadane batting average quantiles: \n",
      "\n",
      "[1.6005, 2.005, 2.394]\n"
     ]
    }
   ],
   "source": [
    "# TB quantiles \n",
    "print(\"TB kadane batting average quantiles: \\n\")\n",
    "print(quantiles(tb_kadane))"
   ]
  },
  {
   "cell_type": "code",
   "execution_count": 227,
   "metadata": {},
   "outputs": [
    {
     "name": "stdout",
     "output_type": "stream",
     "text": [
      "SEA kadane batting average quantiles: \n",
      "\n",
      "[1.5955, 1.88, 2.162]\n"
     ]
    }
   ],
   "source": [
    "# SEA quantiles \n",
    "print(\"SEA kadane batting average quantiles: \\n\")\n",
    "print(quantiles(sea_kadane))"
   ]
  },
  {
   "cell_type": "markdown",
   "metadata": {},
   "source": [
    "Well, we could get fancy with F1-score, population standard deviation, and even high or low medians, and floating point means, but that gets to be overkill. \n",
    "\n",
    "Good luck with your fantasy leagues and #GoSportsSabermetrics! "
   ]
  },
  {
   "cell_type": "code",
   "execution_count": null,
   "metadata": {},
   "outputs": [],
   "source": []
  }
 ],
 "metadata": {
  "kernelspec": {
   "display_name": "Python 3",
   "language": "python",
   "name": "python3"
  },
  "language_info": {
   "codemirror_mode": {
    "name": "ipython",
    "version": 3
   },
   "file_extension": ".py",
   "mimetype": "text/x-python",
   "name": "python",
   "nbconvert_exporter": "python",
   "pygments_lexer": "ipython3",
   "version": "3.9.1"
  }
 },
 "nbformat": 4,
 "nbformat_minor": 4
}
